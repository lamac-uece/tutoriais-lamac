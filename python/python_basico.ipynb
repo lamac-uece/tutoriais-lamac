{
 "cells": [
  {
   "cell_type": "markdown",
   "metadata": {},
   "source": [
    "<div align=\"center\">\n",
    "\n",
    "  <h2>Laboratório de Matemática Computacional (LaMaC)</h2>\n",
    "\n",
    "  <h3>Tutorial de Python Básico</h3>\n",
    "\n",
    "  Neste tutorial aprenderemos conceitos básicos e implementações em Python.\n",
    "\n",
    "</div>"
   ]
  },
  {
   "cell_type": "markdown",
   "metadata": {},
   "source": [
    "---"
   ]
  },
  {
   "cell_type": "markdown",
   "metadata": {},
   "source": [
    "### Conceitos básicos\n",
    "\n",
    "O Python é uma linguagem de programação de alto nível (em que sua sintaxe assemelha-se à linguagem natural) amplamente utilizada por sua simplicidade e legibilidade do código.\n",
    "\n",
    "Geralmente, quando aprendemos uma linguagem de programação, o primeiro código que escrevemos (para dar sorte), é o \"Olá Mundo\". Vamos ver a implementação de um desses em python:"
   ]
  },
  {
   "cell_type": "code",
   "execution_count": 18,
   "metadata": {},
   "outputs": [
    {
     "name": "stdout",
     "output_type": "stream",
     "text": [
      "Hello, World!\n"
     ]
    }
   ],
   "source": [
    "# Exemplo de um \"Hello, World!\" em Python\n",
    "print(\"Hello, World!\")"
   ]
  },
  {
   "cell_type": "markdown",
   "metadata": {},
   "source": [
    "No código acima, todo o texto após o caractere \"#\" é chamado de \"comentário\" e não é levado em consideração pelo compilador/interpretador da linguagem.\n",
    "\n",
    "Na segunda linha, uma função denominada **print** é invocada, recebendo como *argumento* (tudo o que está entre parênteses) a *string* `Hello, World!`. Esta função, então, mostra no console tudo o que lhe foi passado como *parâmetro* (o mesmo que argumento)."
   ]
  },
  {
   "cell_type": "markdown",
   "metadata": {},
   "source": [
    "### Compilação / Interpretação\n",
    "\n",
    "Quando um código em linguagem de programação é compilado, um programa chamado *compilador* transforma todo o código escrito em um código binário (também chamado de linguagem de máquina), em que o seu processador sabe interpretar e executar suas instruções.\n",
    "\n",
    "Python é considerada uma linguagem \"Interpretada\", isto quer dizer que, ao invés de ser compilada, um programa chamado *interpretador* faz a conversão para linguagem de máquina linha a linha (e não no código todo de uma vez), e seu programa vai sendo executado sequencialmente."
   ]
  },
  {
   "cell_type": "markdown",
   "metadata": {},
   "source": [
    "### Variáveis e Tipos de Dados\n",
    "\n",
    "Em Python, você pode declarar variáveis sem especificar seu tipo. Existem diferentes tipos de dados, como inteiros, flutuantes, strings e booleanos. Podemos visualizar o tipo de uma variável ou objeto em Python chamando a função `type()`."
   ]
  },
  {
   "cell_type": "code",
   "execution_count": 19,
   "metadata": {},
   "outputs": [
    {
     "name": "stdout",
     "output_type": "stream",
     "text": [
      "<class 'int'>\n",
      "<class 'float'>\n",
      "<class 'str'>\n",
      "<class 'bool'>\n"
     ]
    }
   ],
   "source": [
    "x = 5\n",
    "y = 3.14\n",
    "nome = \"Python\"\n",
    "ativo = True\n",
    "\n",
    "print(type(x))\n",
    "print(type(y))\n",
    "print(type(nome))\n",
    "print(type(ativo))"
   ]
  },
  {
   "cell_type": "markdown",
   "metadata": {},
   "source": [
    "### Estruturas de Controle\n",
    "\n",
    "#### Condicionais\n",
    "\n",
    "As estruturas condicionais permitem que seu programa tome decisões com base em condições específicas."
   ]
  },
  {
   "cell_type": "code",
   "execution_count": 20,
   "metadata": {},
   "outputs": [
    {
     "name": "stdout",
     "output_type": "stream",
     "text": [
      "O número é exatamente 20.\n"
     ]
    }
   ],
   "source": [
    "# Exemplo de estrutura condicional (if - else)\n",
    "numero = 20\n",
    "if numero > 20:\n",
    "    print(\"O número é maior que 20.\")\n",
    "elif numero == 20:\n",
    "    print(\"O número é exatamente 20.\")\n",
    "else:\n",
    "    print(\"O número é menor que 20.\")"
   ]
  },
  {
   "cell_type": "markdown",
   "metadata": {},
   "source": [
    "#### Loops\n",
    "\n",
    "Os loops permitem que você execute um bloco de código repetidamente, enquanto uma condição for verdadeira."
   ]
  },
  {
   "cell_type": "code",
   "execution_count": 21,
   "metadata": {},
   "outputs": [
    {
     "name": "stdout",
     "output_type": "stream",
     "text": [
      "0, 1, 2, 3, 4, \n",
      "10, 12, 14, 16, 18, "
     ]
    }
   ],
   "source": [
    "# Exemplo de loop for\n",
    "for i in range(5):\n",
    "    print(i, end=', ')\n",
    "\n",
    "# Print avulso para quebrar uma linha\n",
    "print()\n",
    "\n",
    "# Exemplo de loop while\n",
    "i = 10\n",
    "while(i < 20):\n",
    "    print(i, end=', ')\n",
    "    i += 2"
   ]
  },
  {
   "cell_type": "markdown",
   "metadata": {},
   "source": [
    "### Funções\n",
    "\n",
    "As funções em Python permitem organizar e reutilizar o código, encapsulando blocos de código em unidades que podem ser chamadas quando necessário."
   ]
  },
  {
   "cell_type": "code",
   "execution_count": 22,
   "metadata": {},
   "outputs": [
    {
     "name": "stdout",
     "output_type": "stream",
     "text": [
      "Olá, Maria!\n"
     ]
    }
   ],
   "source": [
    "# Exemplo de definição e chamada de função\n",
    "def saudacao(nome):\n",
    "    # O argumento do print abaixo é uma \"fstring\", um tipo de string que\n",
    "    # permite que usemos valores de variáveis dentro delas, quando\n",
    "    # estiverem entre chaves \"{}\". \n",
    "    print(f\"Olá, {nome}!\")\n",
    "\n",
    "saudacao(\"Maria\")"
   ]
  },
  {
   "cell_type": "markdown",
   "metadata": {},
   "source": [
    "Podem receber vários argumentos para realizar suas operações:"
   ]
  },
  {
   "cell_type": "code",
   "execution_count": 23,
   "metadata": {},
   "outputs": [
    {
     "name": "stdout",
     "output_type": "stream",
     "text": [
      "10\n"
     ]
    }
   ],
   "source": [
    "# Exemplo de função com argumentos\n",
    "def soma(a, b):\n",
    "    return a + b\n",
    "\n",
    "resultado = soma(3, 7)\n",
    "print(resultado)"
   ]
  },
  {
   "cell_type": "markdown",
   "metadata": {},
   "source": [
    "A partir do Python 3.5, um conceito chamado \"Type hint\" foi adicionado, o que permite que informemos o tipo de variáveis, argumentos de funções e seus retornos."
   ]
  },
  {
   "cell_type": "code",
   "execution_count": 24,
   "metadata": {},
   "outputs": [
    {
     "name": "stdout",
     "output_type": "stream",
     "text": [
      "Olá, José\n"
     ]
    }
   ],
   "source": [
    "# Na função abaixo, informamos que o tipo do argumento \"name\" é \"str\" (string)\n",
    "# e que o retorno da função também é uma string (-> str)\n",
    "def dizer_ola(name: str) -> str:\n",
    "    return 'Olá, ' + name\n",
    "\n",
    "resultado = dizer_ola('José')\n",
    "print(resultado)"
   ]
  },
  {
   "cell_type": "markdown",
   "metadata": {},
   "source": [
    "### Listas\n",
    "\n",
    "Uma lista em Python é uma coleção ordenada de itens, onde cada item pode ser de qualquer tipo."
   ]
  },
  {
   "cell_type": "code",
   "execution_count": 25,
   "metadata": {},
   "outputs": [
    {
     "name": "stdout",
     "output_type": "stream",
     "text": [
      "<class 'list'>\n"
     ]
    }
   ],
   "source": [
    "# Exemplo de criação de listas\n",
    "lista_numeros = [1, 2, 3, 4, 5]\n",
    "lista_frutas = [\"maçã\", \"banana\", \"laranja\", \"uva\"]\n",
    "lista_misturada = [1, \"abc\", 3.14, False]\n",
    "\n",
    "print(type(lista_numeros))"
   ]
  },
  {
   "cell_type": "markdown",
   "metadata": {},
   "source": [
    "Listas suportam várias operações, como adicionar, remover e modificar elementos."
   ]
  },
  {
   "cell_type": "code",
   "execution_count": 26,
   "metadata": {},
   "outputs": [
    {
     "name": "stdout",
     "output_type": "stream",
     "text": [
      "Lista de frutas antes: ['maçã', 'banana', 'laranja', 'uva']\n",
      "Lista de frutas depois: ['pêra', 'laranja', 'uva', 'morango']\n"
     ]
    }
   ],
   "source": [
    "print('Lista de frutas antes:', lista_frutas)\n",
    "\n",
    "# Adicionando um elemento à lista\n",
    "lista_frutas.append(\"morango\")\n",
    "\n",
    "# Removendo um elemento da lista\n",
    "lista_frutas.remove(\"banana\")\n",
    "\n",
    "# Modificando um elemento da lista no índice 0 (o primeiro elemento)\n",
    "lista_frutas[0] = \"pêra\"\n",
    "\n",
    "print('Lista de frutas depois:', lista_frutas)"
   ]
  },
  {
   "cell_type": "markdown",
   "metadata": {},
   "source": [
    "Existem métodos incorporados em Python para manipular listas, como `append()`, `remove()`, `pop()`, `insert()`."
   ]
  },
  {
   "cell_type": "code",
   "execution_count": 27,
   "metadata": {},
   "outputs": [
    {
     "name": "stdout",
     "output_type": "stream",
     "text": [
      "Lista de números antes: [1, 2, 3, 4, 5]\n",
      "Lista de números depois: [2, 25, 3, 4, 5, 6]\n"
     ]
    }
   ],
   "source": [
    "print('Lista de números antes:', lista_numeros)\n",
    "\n",
    "# Exemplo de uso de métodos de lista\n",
    "lista_numeros.append(6) # adiciona o número 6 ao final da lista\n",
    "lista_numeros.pop(0) # remove o primeiro elemento da lista\n",
    "lista_numeros.insert(1, 25) # insere \"25\" na posição 1 da lista\n",
    "\n",
    "print('Lista de números depois:', lista_numeros)"
   ]
  },
  {
   "cell_type": "markdown",
   "metadata": {},
   "source": [
    "#### Indexação e fatiamento\n",
    "\n",
    "Você pode acessar elementos individuais em uma lista usando índices e pode também fatiar a lista para obter uma sublista."
   ]
  },
  {
   "cell_type": "code",
   "execution_count": 28,
   "metadata": {},
   "outputs": [
    {
     "name": "stdout",
     "output_type": "stream",
     "text": [
      "Primeiro item: 2\n",
      "Sublista: ['laranja', 'uva']\n"
     ]
    }
   ],
   "source": [
    "# Exemplo de indexação e fatiamento de lista\n",
    "primeiro_item = lista_numeros[0] # acessa o primeiro elemento da lista\n",
    "sublista = lista_frutas[1:3] # obtém uma sublista do segundo ao terceiro elemento\n",
    "\n",
    "print('Primeiro item:', primeiro_item)\n",
    "print('Sublista:', sublista)"
   ]
  },
  {
   "cell_type": "markdown",
   "metadata": {},
   "source": [
    "### Orientação a objetos\n",
    "\n",
    "#### Classes e objetos\n",
    "\n",
    "Em Python, a orientação a objetos é baseada em classes e objetos. Uma classe é um modelo para criar objetos que possuem características (atributos) e comportamentos (métodos)."
   ]
  },
  {
   "cell_type": "code",
   "execution_count": 30,
   "metadata": {},
   "outputs": [],
   "source": [
    "# Exemplo de definição de uma classe\n",
    "class Carro:\n",
    "    # Método construtor - inicializa atributos da classe\n",
    "    def __init__(self, marca, modelo):\n",
    "        self.marca = marca\n",
    "        self.modelo = modelo\n",
    "\n",
    "    # Método para exibir informações do carro\n",
    "    def exibir_info(self):\n",
    "        print(f\"Marca: {self.marca}, Modelo: {self.modelo}\")"
   ]
  },
  {
   "cell_type": "markdown",
   "metadata": {},
   "source": [
    "Um objeto é puramente uma instância de uma Classe:"
   ]
  },
  {
   "cell_type": "code",
   "execution_count": 31,
   "metadata": {},
   "outputs": [
    {
     "name": "stdout",
     "output_type": "stream",
     "text": [
      "Marca: Renault, Modelo: Kwid\n"
     ]
    }
   ],
   "source": [
    "# Aqui, instanciamos um objeto da classe Carro\n",
    "meu_carro = Carro('Renault', 'Kwid')\n",
    "\n",
    "# Chamamos o método \"exibir_info\" do objeto:\n",
    "meu_carro.exibir_info()"
   ]
  },
  {
   "cell_type": "markdown",
   "metadata": {},
   "source": [
    "#### Atributos públicos ou privados\n",
    "\n",
    "Os atributos de uma classe podem ser públicos ou privados.\n",
    "\n",
    "- públicos: podem ser acessados por fora do objeto\n",
    "- privados: só podem ser acessados internamente\n",
    "\n",
    "A convenção em Python para criar atributos privados é usar um sublinhado duplo `__` como prefixo."
   ]
  },
  {
   "cell_type": "code",
   "execution_count": 36,
   "metadata": {},
   "outputs": [
    {
     "name": "stdout",
     "output_type": "stream",
     "text": [
      "Gabriel\n",
      "27\n"
     ]
    }
   ],
   "source": [
    "class Pessoa:\n",
    "    def __init__(self, nome: str, idade: int):\n",
    "        self.nome = nome  # Atributo público\n",
    "        self.__idade = idade  # Atributo privado\n",
    "\n",
    "    # Como o atributo __idade é privado, precisamos de métodos públicos\n",
    "    # para acessá-lo por fora da classe, os famosos \"getters\" e \"setters\":\n",
    "\n",
    "    def obter_idade(self):\n",
    "        return self.__idade\n",
    "\n",
    "    def atualizar_idade(self, nova_idade):\n",
    "        self.__idade = nova_idade\n",
    "\n",
    "\n",
    "individuo = Pessoa('Gabriel', 27)\n",
    "print(individuo.nome)\n",
    "# print(individuo.__idade) # AttributeError: 'Pessoa' object has no attribute '__idade'\n",
    "print(individuo.obter_idade())"
   ]
  },
  {
   "cell_type": "markdown",
   "metadata": {},
   "source": [
    "### Docstrings\n",
    "\n",
    "#### O que são Docstrings?\n",
    "\n",
    "Docstrings são strings de documentação incorporadas diretamente no código Python para documentar funções, classes, módulos ou métodos. Elas são usadas para descrever o propósito, funcionamento e uso de um componente específico do código.\n",
    "\n",
    "#### Importância das Docstrings\n",
    "\n",
    "As docstrings são fundamentais para melhorar a legibilidade e a compreensão do código. Elas servem como uma documentação embutida que pode ser facilmente acessada por outros desenvolvedores utilizando ferramentas de ajuda integradas.\n",
    "\n",
    "#### Como Escrever Docstrings\n",
    "\n",
    "Em Python, as docstrings são colocadas logo após a definição de uma função, classe ou método, entre três aspas simples ou duplas."
   ]
  },
  {
   "cell_type": "code",
   "execution_count": 37,
   "metadata": {},
   "outputs": [],
   "source": [
    "def calcular_media(lista):\n",
    "    \"\"\"Calcula a média dos valores em uma lista.\n",
    "\n",
    "    Args:\n",
    "    lista (list): Uma lista de números.\n",
    "\n",
    "    Returns:\n",
    "    float: A média dos números na lista.\n",
    "    \"\"\"\n",
    "    if not lista:\n",
    "        return 0\n",
    "    return sum(lista) / len(lista)"
   ]
  },
  {
   "cell_type": "markdown",
   "metadata": {},
   "source": [
    "#### Acesso às docstrings\n",
    "\n",
    "Para acessar a docstring de uma função ou método em tempo de execução, pode-se utilizar a função `help()` ou acessar o atributo `__doc__`."
   ]
  },
  {
   "cell_type": "code",
   "execution_count": 39,
   "metadata": {},
   "outputs": [
    {
     "name": "stdout",
     "output_type": "stream",
     "text": [
      "Help on function calcular_media in module __main__:\n",
      "\n",
      "calcular_media(lista)\n",
      "    Calcula a média dos valores em uma lista.\n",
      "    \n",
      "    Args:\n",
      "    lista (list): Uma lista de números.\n",
      "    \n",
      "    Returns:\n",
      "    float: A média dos números na lista.\n",
      "\n"
     ]
    }
   ],
   "source": [
    "help(calcular_media)"
   ]
  },
  {
   "cell_type": "code",
   "execution_count": 40,
   "metadata": {},
   "outputs": [
    {
     "name": "stdout",
     "output_type": "stream",
     "text": [
      "Calcula a média dos valores em uma lista.\n",
      "\n",
      "    Args:\n",
      "    lista (list): Uma lista de números.\n",
      "\n",
      "    Returns:\n",
      "    float: A média dos números na lista.\n",
      "    \n"
     ]
    }
   ],
   "source": [
    "print(calcular_media.__doc__)"
   ]
  },
  {
   "cell_type": "markdown",
   "metadata": {},
   "source": [
    "Existem convenções estabelecidas para escrever docstrings, como as do PEP 257, que são amplamente seguidas pela comunidade Python para manter a consistência na documentação."
   ]
  },
  {
   "cell_type": "markdown",
   "metadata": {},
   "source": [
    "### PEPs - Python Enhancement Proposals\n",
    "\n",
    "#### O que são PEPs?\n",
    "\n",
    "As Python Enhancement Proposals são documentos que fornecem informações e diretrizes para a comunidade Python. Elas podem propor novos recursos, melhorias, padrões ou processos para a linguagem Python.\n",
    "\n",
    "#### PEP 8 - Estilo de Codificação\n",
    "\n",
    "A PEP 8 define as diretrizes para a formatação do código Python, incluindo convenções de nomenclatura, estilo de identação, uso de espaços em branco e outras práticas para tornar o código mais legível e consistente.\n",
    "\n",
    "#### PEP 20 - Zen do Python\n",
    "\n",
    "A PEP 20 descreve os princípios filosóficos que orientam o design da linguagem Python. Ela inclui ideias como legibilidade conta, explícito é melhor que implícito e simplicidade é melhor que complexidade.\n",
    "\n",
    "#### PEP 257 - Convenções para Docstrings\n",
    "\n",
    "Fornece diretrizes para escrever docstrings em Python, definindo padrões para documentar funções, classes e métodos de maneira clara e consistente.\n",
    "\n",
    "#### PEP 484 - Anotações de Tipos\n",
    "\n",
    "Introduz a capacidade de adicionar anotações de tipos opcionais às variáveis, argumentos de função e retornos de função, fornecendo uma maneira de especificar tipos sem alterar o comportamento do código Python.\n",
    "\n",
    "#### PEP 333 - Especificação do WSGI (Web Server Gateway Interface)\n",
    "\n",
    "Descreve um padrão para a comunicação entre servidores web e aplicações web escritas em Python, permitindo a interoperabilidade entre diferentes servidores e frameworks web.\n",
    "\n",
    "#### PEP 572 - Atribuição de Expressão\n",
    "\n",
    "Introduz a atribuição de expressão em Python, permitindo atribuir valores a variáveis dentro de expressões.\n",
    "\n",
    "Essas PEPs são algumas das mais conhecidas e influentes na evolução e no desenvolvimento da linguagem Python. Elas representam diretrizes, melhorias e novos recursos que ajudam a moldar o ecossistema Python."
   ]
  },
  {
   "cell_type": "markdown",
   "metadata": {},
   "source": [
    "### Autores\n",
    "\n",
    "- Gabriel Lins"
   ]
  }
 ],
 "metadata": {
  "kernelspec": {
   "display_name": ".venv",
   "language": "python",
   "name": "python3"
  },
  "language_info": {
   "codemirror_mode": {
    "name": "ipython",
    "version": 3
   },
   "file_extension": ".py",
   "mimetype": "text/x-python",
   "name": "python",
   "nbconvert_exporter": "python",
   "pygments_lexer": "ipython3",
   "version": "3.10.13"
  }
 },
 "nbformat": 4,
 "nbformat_minor": 2
}
